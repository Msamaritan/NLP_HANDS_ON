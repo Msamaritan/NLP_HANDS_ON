{
 "cells": [
  {
   "cell_type": "code",
   "execution_count": 1,
   "metadata": {
    "id": "eHo3yyX5mN0b"
   },
   "outputs": [],
   "source": [
    "import spacy"
   ]
  },
  {
   "cell_type": "code",
   "execution_count": 2,
   "metadata": {
    "id": "D18NyNM_mVtG"
   },
   "outputs": [],
   "source": [
    "J = spacy.load('en_core_web_sm')"
   ]
  },
  {
   "cell_type": "code",
   "execution_count": 8,
   "metadata": {
    "id": "NfuK1AQemfNn"
   },
   "outputs": [],
   "source": [
    "ex1=\"Named entity recognition are identified with the help of spacy\"\\\n",
    "+\"Spacy have even lot more helpful functions\""
   ]
  },
  {
   "cell_type": "code",
   "execution_count": 9,
   "metadata": {
    "colab": {
     "base_uri": "https://localhost:8080/",
     "height": 70
    },
    "id": "3DRT5WVcm656",
    "outputId": "3ee3b4e2-feea-4ac0-8998-728dbbd56998"
   },
   "outputs": [],
   "source": [
    "doc=J(ex1)\n",
    "for ent in doc.ents:\n",
    "  print(ent.text,\"-\",ent.label_)"
   ]
  },
  {
   "cell_type": "code",
   "execution_count": 5,
   "metadata": {
    "id": "cSCdPaxXnPXB"
   },
   "outputs": [],
   "source": [
    "exa2=\"Year 2020 the year where everything we know was turned topsy-turvy due a virus called COVID-19\"\\\n",
    "+\"Every year from March to August onwards, our Asia team will usually host a series of Author Workshops\"\\\n",
    "+\"with universities across Asia\""
   ]
  },
  {
   "cell_type": "code",
   "execution_count": 6,
   "metadata": {
    "colab": {
     "base_uri": "https://localhost:8080/",
     "height": 175
    },
    "id": "5sV7SJtqn6Df",
    "outputId": "bf22dc26-9c14-41c9-fe1f-793797c516ca"
   },
   "outputs": [
    {
     "name": "stdout",
     "output_type": "stream",
     "text": [
      "Year 2020 the year - DATE\n",
      "March - DATE\n",
      "August - DATE\n",
      "Asia - LOC\n",
      "Workshopswith - PERSON\n",
      "Asia - LOC\n"
     ]
    }
   ],
   "source": [
    "doc=J(ex2)\n",
    "for ent in doc.ents:\n",
    "  print(ent.text,\"-\",ent.label_)"
   ]
  },
  {
   "cell_type": "code",
   "execution_count": null,
   "metadata": {
    "id": "OdidqoeNoIXa"
   },
   "outputs": [],
   "source": []
  }
 ],
 "metadata": {
  "colab": {
   "collapsed_sections": [],
   "name": "Named entity recognition.ipynb",
   "provenance": []
  },
  "kernelspec": {
   "display_name": "Python 3",
   "language": "python",
   "name": "python3"
  },
  "language_info": {
   "codemirror_mode": {
    "name": "ipython",
    "version": 3
   },
   "file_extension": ".py",
   "mimetype": "text/x-python",
   "name": "python",
   "nbconvert_exporter": "python",
   "pygments_lexer": "ipython3",
   "version": "3.8.3"
  }
 },
 "nbformat": 4,
 "nbformat_minor": 1
}

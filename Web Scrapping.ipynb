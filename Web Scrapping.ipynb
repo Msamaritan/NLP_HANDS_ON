{
 "cells": [
  {
   "cell_type": "code",
   "execution_count": 1,
   "metadata": {},
   "outputs": [
    {
     "data": {
      "text/plain": [
       "str"
      ]
     },
     "execution_count": 1,
     "metadata": {},
     "output_type": "execute_result"
    }
   ],
   "source": [
    "#WEB SCRAPING\n",
    "#HTML => ASCII =>TOKEN =>TEXT => VOCAB\n",
    "from urllib import request\n",
    "url = \"http://www.gutenberg.org/files/2554/2554-0.txt\"\n",
    "response = request.urlopen(url)\n",
    "raw = response.read().decode('utf8')\n",
    "type(raw)"
   ]
  },
  {
   "cell_type": "code",
   "execution_count": 2,
   "metadata": {},
   "outputs": [
    {
     "name": "stdout",
     "output_type": "stream",
     "text": [
      "﻿The Project Gutenberg EBook of Crime and Punishment, by Fyodor Dostoevsky\r\n",
      "\r\n",
      "This eBook is for the \n"
     ]
    }
   ],
   "source": [
    "print(raw[0:100])"
   ]
  },
  {
   "cell_type": "code",
   "execution_count": 3,
   "metadata": {},
   "outputs": [
    {
     "data": {
      "text/plain": [
       "list"
      ]
     },
     "execution_count": 3,
     "metadata": {},
     "output_type": "execute_result"
    }
   ],
   "source": [
    "import nltk\n",
    "tokens = nltk.word_tokenize(raw)\n",
    "type(tokens)"
   ]
  },
  {
   "cell_type": "code",
   "execution_count": 4,
   "metadata": {},
   "outputs": [
    {
     "name": "stdout",
     "output_type": "stream",
     "text": [
      "<Text: ﻿The Project Gutenberg EBook of Crime and Punishment...>\n"
     ]
    }
   ],
   "source": [
    "text = nltk.Text(tokens)\n",
    "print(text)"
   ]
  },
  {
   "cell_type": "code",
   "execution_count": 5,
   "metadata": {},
   "outputs": [
    {
     "name": "stdout",
     "output_type": "stream",
     "text": [
      "[('\\ufeffThe', 'NN'), ('Project', 'NNP'), ('Gutenberg', 'NNP'), ('EBook', 'NNP'), ('of', 'IN'), ('Crime', 'NNP'), ('and', 'CC'), ('Punishment', 'NNP'), (',', ','), ('by', 'IN'), ('Fyodor', 'NNP'), ('Dostoevsky', 'NNP'), ('This', 'DT'), ('eBook', 'NN'), ('is', 'VBZ'), ('for', 'IN'), ('the', 'DT'), ('use', 'NN'), ('of', 'IN'), ('anyone', 'NN')]\n"
     ]
    }
   ],
   "source": [
    "texts = text[:20]\n",
    "tagged = nltk.pos_tag(texts)\n",
    "print(tagged)"
   ]
  },
  {
   "cell_type": "code",
   "execution_count": 6,
   "metadata": {},
   "outputs": [
    {
     "name": "stdout",
     "output_type": "stream",
     "text": [
      "[('\\ufeff', 'JJ'), ('T', 'NNP'), ('h', 'NN'), ('e', 'NN')]\n",
      "[('P', 'NNP'), ('r', 'NN'), ('o', 'NN'), ('j', 'NN'), ('e', 'NN'), ('c', 'NNS'), ('t', 'VBP')]\n",
      "[('G', 'NNP'), ('u', 'JJ'), ('t', 'NN'), ('e', 'NN'), ('n', 'NN'), ('b', 'NN'), ('e', 'NN'), ('r', 'NN'), ('g', 'NN')]\n",
      "[('E', 'NN'), ('B', 'NNP'), ('o', 'NN'), ('o', 'NN'), ('k', 'NN')]\n",
      "[('o', 'NN'), ('f', 'NN')]\n",
      "[('C', 'NNP'), ('r', 'NN'), ('i', 'NN'), ('m', 'VBP'), ('e', 'NN')]\n",
      "[('a', 'DT'), ('n', 'JJ'), ('d', 'NN')]\n",
      "[('P', 'NNP'), ('u', 'JJ'), ('n', 'NN'), ('i', 'NN'), ('s', 'VBP'), ('h', 'NN'), ('m', 'NN'), ('e', 'NN'), ('n', 'NNS'), ('t', 'VBP')]\n",
      "[(',', ',')]\n",
      "[('b', 'NN'), ('y', 'NN')]\n",
      "[('F', 'NNP'), ('y', 'PRP'), ('o', 'VBP'), ('d', 'JJ'), ('o', 'NN'), ('r', 'NN')]\n",
      "[('D', 'NNP'), ('o', 'MD'), ('s', 'VB'), ('t', 'JJ'), ('o', 'NN'), ('e', 'NN'), ('v', 'NN'), ('s', 'NN'), ('k', 'NN'), ('y', 'NN')]\n",
      "[('T', 'NNP'), ('h', 'NN'), ('i', 'NN'), ('s', 'VBP')]\n",
      "[('e', 'NN'), ('B', 'NNP'), ('o', 'NN'), ('o', 'NN'), ('k', 'NN')]\n",
      "[('i', 'NN'), ('s', 'VBP')]\n",
      "[('f', 'NN'), ('o', 'NN'), ('r', 'NN')]\n",
      "[('t', 'NN'), ('h', 'NN'), ('e', 'NN')]\n",
      "[('u', 'JJ'), ('s', 'NN'), ('e', 'NN')]\n",
      "[('o', 'NN'), ('f', 'NN')]\n",
      "[('a', 'DT'), ('n', 'JJ'), ('y', 'NN'), ('o', 'NN'), ('n', 'NN'), ('e', 'NN')]\n"
     ]
    }
   ],
   "source": [
    "texts = text[:20]\n",
    "for tt in texts:\n",
    "    tagged = nltk.pos_tag(tt)\n",
    "    print(tagged)"
   ]
  },
  {
   "cell_type": "code",
   "execution_count": null,
   "metadata": {},
   "outputs": [],
   "source": []
  }
 ],
 "metadata": {
  "kernelspec": {
   "display_name": "Python 3",
   "language": "python",
   "name": "python3"
  },
  "language_info": {
   "codemirror_mode": {
    "name": "ipython",
    "version": 3
   },
   "file_extension": ".py",
   "mimetype": "text/x-python",
   "name": "python",
   "nbconvert_exporter": "python",
   "pygments_lexer": "ipython3",
   "version": "3.8.3"
  }
 },
 "nbformat": 4,
 "nbformat_minor": 4
}
